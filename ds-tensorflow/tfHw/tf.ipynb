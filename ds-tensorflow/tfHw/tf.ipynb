{
 "cells": [
  {
   "cell_type": "code",
   "execution_count": 4,
   "metadata": {
    "collapsed": false
   },
   "outputs": [],
   "source": [
    "import numpy\n",
    "import tensorflow as tf\n",
    "# import matplotlib.pyplot as plt\n",
    "# %matplotlib inline  \n",
    "# import sys\n",
    "\n",
    "# http://www.wildml.com/2015/12/implementing-a-cnn-for-text-classification-in-tensorflow/"
   ]
  },
  {
   "cell_type": "code",
   "execution_count": 5,
   "metadata": {
    "collapsed": false
   },
   "outputs": [],
   "source": [
    "# a = tf.mul(3,5)\n",
    "# hello = tf.constant('Hello, TensorFlow!')\n",
    "# sess=tf.Session()\n",
    "# sess.run(a)\n",
    "# print (sess.run(hello))\n"
   ]
  },
  {
   "cell_type": "code",
   "execution_count": 6,
   "metadata": {
    "collapsed": false
   },
   "outputs": [],
   "source": [
    "# x = tf.placeholder(tf.float32)\n",
    "# # start value = 0\n",
    "# start = tf.Variable(0.0)\n",
    "# # y: node\n",
    "# y=start.assign(start+x)\n",
    "# print (y)"
   ]
  },
  {
   "cell_type": "code",
   "execution_count": 7,
   "metadata": {
    "collapsed": true
   },
   "outputs": [],
   "source": [
    "#TensorBoard\n",
    "a = [[1,2,3]]\n",
    "b = [[1,2,3],[4,5,6],[7,8,9]]\n",
    "\n",
    "c = tf.matmul(a,b)\n",
    "sess = tf.Session()\n",
    "sess.run(c)\n",
    "\n",
    "writer = tf.train.SummaryWriter('./my_graph',sess.graph)\n",
    "\n",
    "# $ tensorboard --logdir my_graph/"
   ]
  },
  {
   "cell_type": "code",
   "execution_count": 11,
   "metadata": {
    "collapsed": false
   },
   "outputs": [
    {
     "data": {
      "text/plain": [
       "b'hi'"
      ]
     },
     "execution_count": 11,
     "metadata": {},
     "output_type": "execute_result"
    }
   ],
   "source": [
    "c = tf.constant(\"hi\")\n",
    "server = tf.train.Server.create_local_server()\n",
    "sess = tf.Session(server.target)\n",
    "sess.run(c)"
   ]
  },
  {
   "cell_type": "code",
   "execution_count": null,
   "metadata": {
    "collapsed": true
   },
   "outputs": [],
   "source": []
  }
 ],
 "metadata": {
  "kernelspec": {
   "display_name": "Python 3",
   "language": "python",
   "name": "python3"
  },
  "language_info": {
   "codemirror_mode": {
    "name": "ipython",
    "version": 3
   },
   "file_extension": ".py",
   "mimetype": "text/x-python",
   "name": "python",
   "nbconvert_exporter": "python",
   "pygments_lexer": "ipython3",
   "version": "3.4.3"
  }
 },
 "nbformat": 4,
 "nbformat_minor": 0
}
